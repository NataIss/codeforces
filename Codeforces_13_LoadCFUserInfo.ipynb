{
  "nbformat": 4,
  "nbformat_minor": 0,
  "metadata": {
    "colab": {
      "name": "LoadCFUserInfo.ipynb",
      "provenance": [],
      "collapsed_sections": [],
      "authorship_tag": "ABX9TyN6axTS3RUVyWSucSed5Z4q",
      "include_colab_link": true
    },
    "kernelspec": {
      "name": "python3",
      "display_name": "Python 3"
    },
    "language_info": {
      "name": "python"
    }
  },
  "cells": [
    {
      "cell_type": "markdown",
      "metadata": {
        "id": "view-in-github",
        "colab_type": "text"
      },
      "source": [
        "<a href=\"https://colab.research.google.com/github/NataIss/codeforces/blob/main/Codeforces_13_LoadCFUserInfo.ipynb\" target=\"_parent\"><img src=\"https://colab.research.google.com/assets/colab-badge.svg\" alt=\"Open In Colab\"/></a>"
      ]
    },
    {
      "cell_type": "code",
      "execution_count": 35,
      "metadata": {
        "id": "m1qeNlHbMUMb"
      },
      "outputs": [],
      "source": [
        "import pandas as pd"
      ]
    },
    {
      "cell_type": "code",
      "source": [
        "try:  \n",
        "    data = pd.read_json(\"https://codeforces.com/api/user.ratedList?activeOnly=false\")\n",
        "    dfAll = pd.DataFrame.from_records(data['result'])\n",
        "    dfAll\n",
        "except (BaseException) as e:    \n",
        "    print(e)\n",
        "    print(alink)"
      ],
      "metadata": {
        "id": "bgC1I_L5MrTP"
      },
      "execution_count": 36,
      "outputs": []
    },
    {
      "cell_type": "code",
      "source": [
        "dfAll.shape"
      ],
      "metadata": {
        "colab": {
          "base_uri": "https://localhost:8080/"
        },
        "id": "qAdGU0RDgIb7",
        "outputId": "01a467f9-7068-4f73-8e8a-7029583a9b8a"
      },
      "execution_count": 37,
      "outputs": [
        {
          "output_type": "execute_result",
          "data": {
            "text/plain": [
              "(399067, 19)"
            ]
          },
          "metadata": {},
          "execution_count": 37
        }
      ]
    },
    {
      "cell_type": "code",
      "source": [
        "dfAll['city']=dfAll['city'].fillna('Other')\n",
        "dfAll['country']=dfAll['country'].fillna('Other')"
      ],
      "metadata": {
        "id": "heStVsOse2s7"
      },
      "execution_count": 38,
      "outputs": []
    },
    {
      "cell_type": "code",
      "source": [
        "dfAll=dfAll.drop('titlePhoto',axis=1)\n",
        "dfAll=dfAll.drop('avatar',axis=1)\n",
        "dfAll=dfAll.drop('email',axis=1)\n",
        "dfAll=dfAll.drop('vkId',axis=1)\n",
        "dfAll=dfAll.drop('openId',axis=1)"
      ],
      "metadata": {
        "id": "k-TO_WdqWj9B"
      },
      "execution_count": 39,
      "outputs": []
    },
    {
      "cell_type": "code",
      "source": [
        "dfAll['regTime']=pd.to_datetime(dfAll['registrationTimeSeconds'],unit='s')\n",
        "dfAll['last']=pd.to_datetime(dfAll['lastOnlineTimeSeconds'],unit='s')"
      ],
      "metadata": {
        "id": "rBNVSBsGXXxy"
      },
      "execution_count": 40,
      "outputs": []
    },
    {
      "cell_type": "code",
      "source": [
        "dfAll['ind']=dfAll['regTime']"
      ],
      "metadata": {
        "id": "pMrs3w4sdkJB"
      },
      "execution_count": 41,
      "outputs": []
    },
    {
      "cell_type": "code",
      "source": [
        "dfAll.set_index('ind',inplace=True)\n",
        "dfAll['dayOfWeek']=dfAll.index.dayofweek\n",
        "dfAll['Y']=dfAll.index.year\n",
        "dfAll['M']=dfAll.index.month\n",
        "dfAll['H']=dfAll.index.hour"
      ],
      "metadata": {
        "id": "PFMThzOrd9Qu"
      },
      "execution_count": 42,
      "outputs": []
    },
    {
      "cell_type": "code",
      "source": [
        "dfAll.head()"
      ],
      "metadata": {
        "colab": {
          "base_uri": "https://localhost:8080/",
          "height": 475
        },
        "id": "Y4BuN7yAehQW",
        "outputId": "2ac3387f-23ea-4e18-d2db-46814e9369b8"
      },
      "execution_count": 43,
      "outputs": [
        {
          "output_type": "execute_result",
          "data": {
            "text/html": [
              "\n",
              "  <div id=\"df-845d44f7-38ed-4918-a9f0-707270c1b6ca\">\n",
              "    <div class=\"colab-df-container\">\n",
              "      <div>\n",
              "<style scoped>\n",
              "    .dataframe tbody tr th:only-of-type {\n",
              "        vertical-align: middle;\n",
              "    }\n",
              "\n",
              "    .dataframe tbody tr th {\n",
              "        vertical-align: top;\n",
              "    }\n",
              "\n",
              "    .dataframe thead th {\n",
              "        text-align: right;\n",
              "    }\n",
              "</style>\n",
              "<table border=\"1\" class=\"dataframe\">\n",
              "  <thead>\n",
              "    <tr style=\"text-align: right;\">\n",
              "      <th></th>\n",
              "      <th>lastName</th>\n",
              "      <th>country</th>\n",
              "      <th>lastOnlineTimeSeconds</th>\n",
              "      <th>city</th>\n",
              "      <th>rating</th>\n",
              "      <th>friendOfCount</th>\n",
              "      <th>handle</th>\n",
              "      <th>firstName</th>\n",
              "      <th>contribution</th>\n",
              "      <th>organization</th>\n",
              "      <th>rank</th>\n",
              "      <th>maxRating</th>\n",
              "      <th>registrationTimeSeconds</th>\n",
              "      <th>maxRank</th>\n",
              "      <th>regTime</th>\n",
              "      <th>last</th>\n",
              "      <th>dayOfWeek</th>\n",
              "      <th>Y</th>\n",
              "      <th>M</th>\n",
              "      <th>H</th>\n",
              "    </tr>\n",
              "    <tr>\n",
              "      <th>ind</th>\n",
              "      <th></th>\n",
              "      <th></th>\n",
              "      <th></th>\n",
              "      <th></th>\n",
              "      <th></th>\n",
              "      <th></th>\n",
              "      <th></th>\n",
              "      <th></th>\n",
              "      <th></th>\n",
              "      <th></th>\n",
              "      <th></th>\n",
              "      <th></th>\n",
              "      <th></th>\n",
              "      <th></th>\n",
              "      <th></th>\n",
              "      <th></th>\n",
              "      <th></th>\n",
              "      <th></th>\n",
              "      <th></th>\n",
              "      <th></th>\n",
              "    </tr>\n",
              "  </thead>\n",
              "  <tbody>\n",
              "    <tr>\n",
              "      <th>2010-02-12 15:08:08</th>\n",
              "      <td>Korotkevich</td>\n",
              "      <td>Belarus</td>\n",
              "      <td>1641288180</td>\n",
              "      <td>Gomel</td>\n",
              "      <td>3911</td>\n",
              "      <td>39792</td>\n",
              "      <td>tourist</td>\n",
              "      <td>Gennady</td>\n",
              "      <td>0</td>\n",
              "      <td>ITMO University</td>\n",
              "      <td>legendary grandmaster</td>\n",
              "      <td>3911</td>\n",
              "      <td>1265987288</td>\n",
              "      <td>legendary grandmaster</td>\n",
              "      <td>2010-02-12 15:08:08</td>\n",
              "      <td>2022-01-04 09:23:00</td>\n",
              "      <td>4</td>\n",
              "      <td>2010</td>\n",
              "      <td>2</td>\n",
              "      <td>15</td>\n",
              "    </tr>\n",
              "    <tr>\n",
              "      <th>2015-07-27 05:21:18</th>\n",
              "      <td>Kawasaki</td>\n",
              "      <td>Japan</td>\n",
              "      <td>1641267973</td>\n",
              "      <td>Tokyo</td>\n",
              "      <td>3606</td>\n",
              "      <td>2212</td>\n",
              "      <td>maroonrk</td>\n",
              "      <td>Riku</td>\n",
              "      <td>0</td>\n",
              "      <td>The University of Tokyo</td>\n",
              "      <td>legendary grandmaster</td>\n",
              "      <td>3606</td>\n",
              "      <td>1437974478</td>\n",
              "      <td>legendary grandmaster</td>\n",
              "      <td>2015-07-27 05:21:18</td>\n",
              "      <td>2022-01-04 03:46:13</td>\n",
              "      <td>0</td>\n",
              "      <td>2015</td>\n",
              "      <td>7</td>\n",
              "      <td>5</td>\n",
              "    </tr>\n",
              "    <tr>\n",
              "      <th>2011-05-24 03:41:47</th>\n",
              "      <td>NaN</td>\n",
              "      <td>Samoa</td>\n",
              "      <td>1641267741</td>\n",
              "      <td>Other</td>\n",
              "      <td>3604</td>\n",
              "      <td>10602</td>\n",
              "      <td>MiracleFaFa</td>\n",
              "      <td>MiFaFa</td>\n",
              "      <td>0</td>\n",
              "      <td>National University of Samoa</td>\n",
              "      <td>legendary grandmaster</td>\n",
              "      <td>3681</td>\n",
              "      <td>1306208507</td>\n",
              "      <td>legendary grandmaster</td>\n",
              "      <td>2011-05-24 03:41:47</td>\n",
              "      <td>2022-01-04 03:42:21</td>\n",
              "      <td>1</td>\n",
              "      <td>2011</td>\n",
              "      <td>5</td>\n",
              "      <td>3</td>\n",
              "    </tr>\n",
              "    <tr>\n",
              "      <th>2015-06-23 22:52:59</th>\n",
              "      <td>Qi</td>\n",
              "      <td>United States</td>\n",
              "      <td>1641257449</td>\n",
              "      <td>Princeton</td>\n",
              "      <td>3583</td>\n",
              "      <td>8251</td>\n",
              "      <td>Benq</td>\n",
              "      <td>Benjamin</td>\n",
              "      <td>0</td>\n",
              "      <td>MIT</td>\n",
              "      <td>legendary grandmaster</td>\n",
              "      <td>3797</td>\n",
              "      <td>1435099979</td>\n",
              "      <td>legendary grandmaster</td>\n",
              "      <td>2015-06-23 22:52:59</td>\n",
              "      <td>2022-01-04 00:50:49</td>\n",
              "      <td>1</td>\n",
              "      <td>2015</td>\n",
              "      <td>6</td>\n",
              "      <td>22</td>\n",
              "    </tr>\n",
              "    <tr>\n",
              "      <th>2013-11-23 12:04:30</th>\n",
              "      <td>Radecki</td>\n",
              "      <td>Poland</td>\n",
              "      <td>1641302872</td>\n",
              "      <td>Warsaw</td>\n",
              "      <td>3545</td>\n",
              "      <td>7525</td>\n",
              "      <td>Radewoosh</td>\n",
              "      <td>Mateusz</td>\n",
              "      <td>0</td>\n",
              "      <td>University of Warsaw</td>\n",
              "      <td>legendary grandmaster</td>\n",
              "      <td>3720</td>\n",
              "      <td>1385208270</td>\n",
              "      <td>legendary grandmaster</td>\n",
              "      <td>2013-11-23 12:04:30</td>\n",
              "      <td>2022-01-04 13:27:52</td>\n",
              "      <td>5</td>\n",
              "      <td>2013</td>\n",
              "      <td>11</td>\n",
              "      <td>12</td>\n",
              "    </tr>\n",
              "  </tbody>\n",
              "</table>\n",
              "</div>\n",
              "      <button class=\"colab-df-convert\" onclick=\"convertToInteractive('df-845d44f7-38ed-4918-a9f0-707270c1b6ca')\"\n",
              "              title=\"Convert this dataframe to an interactive table.\"\n",
              "              style=\"display:none;\">\n",
              "        \n",
              "  <svg xmlns=\"http://www.w3.org/2000/svg\" height=\"24px\"viewBox=\"0 0 24 24\"\n",
              "       width=\"24px\">\n",
              "    <path d=\"M0 0h24v24H0V0z\" fill=\"none\"/>\n",
              "    <path d=\"M18.56 5.44l.94 2.06.94-2.06 2.06-.94-2.06-.94-.94-2.06-.94 2.06-2.06.94zm-11 1L8.5 8.5l.94-2.06 2.06-.94-2.06-.94L8.5 2.5l-.94 2.06-2.06.94zm10 10l.94 2.06.94-2.06 2.06-.94-2.06-.94-.94-2.06-.94 2.06-2.06.94z\"/><path d=\"M17.41 7.96l-1.37-1.37c-.4-.4-.92-.59-1.43-.59-.52 0-1.04.2-1.43.59L10.3 9.45l-7.72 7.72c-.78.78-.78 2.05 0 2.83L4 21.41c.39.39.9.59 1.41.59.51 0 1.02-.2 1.41-.59l7.78-7.78 2.81-2.81c.8-.78.8-2.07 0-2.86zM5.41 20L4 18.59l7.72-7.72 1.47 1.35L5.41 20z\"/>\n",
              "  </svg>\n",
              "      </button>\n",
              "      \n",
              "  <style>\n",
              "    .colab-df-container {\n",
              "      display:flex;\n",
              "      flex-wrap:wrap;\n",
              "      gap: 12px;\n",
              "    }\n",
              "\n",
              "    .colab-df-convert {\n",
              "      background-color: #E8F0FE;\n",
              "      border: none;\n",
              "      border-radius: 50%;\n",
              "      cursor: pointer;\n",
              "      display: none;\n",
              "      fill: #1967D2;\n",
              "      height: 32px;\n",
              "      padding: 0 0 0 0;\n",
              "      width: 32px;\n",
              "    }\n",
              "\n",
              "    .colab-df-convert:hover {\n",
              "      background-color: #E2EBFA;\n",
              "      box-shadow: 0px 1px 2px rgba(60, 64, 67, 0.3), 0px 1px 3px 1px rgba(60, 64, 67, 0.15);\n",
              "      fill: #174EA6;\n",
              "    }\n",
              "\n",
              "    [theme=dark] .colab-df-convert {\n",
              "      background-color: #3B4455;\n",
              "      fill: #D2E3FC;\n",
              "    }\n",
              "\n",
              "    [theme=dark] .colab-df-convert:hover {\n",
              "      background-color: #434B5C;\n",
              "      box-shadow: 0px 1px 3px 1px rgba(0, 0, 0, 0.15);\n",
              "      filter: drop-shadow(0px 1px 2px rgba(0, 0, 0, 0.3));\n",
              "      fill: #FFFFFF;\n",
              "    }\n",
              "  </style>\n",
              "\n",
              "      <script>\n",
              "        const buttonEl =\n",
              "          document.querySelector('#df-845d44f7-38ed-4918-a9f0-707270c1b6ca button.colab-df-convert');\n",
              "        buttonEl.style.display =\n",
              "          google.colab.kernel.accessAllowed ? 'block' : 'none';\n",
              "\n",
              "        async function convertToInteractive(key) {\n",
              "          const element = document.querySelector('#df-845d44f7-38ed-4918-a9f0-707270c1b6ca');\n",
              "          const dataTable =\n",
              "            await google.colab.kernel.invokeFunction('convertToInteractive',\n",
              "                                                     [key], {});\n",
              "          if (!dataTable) return;\n",
              "\n",
              "          const docLinkHtml = 'Like what you see? Visit the ' +\n",
              "            '<a target=\"_blank\" href=https://colab.research.google.com/notebooks/data_table.ipynb>data table notebook</a>'\n",
              "            + ' to learn more about interactive tables.';\n",
              "          element.innerHTML = '';\n",
              "          dataTable['output_type'] = 'display_data';\n",
              "          await google.colab.output.renderOutput(dataTable, element);\n",
              "          const docLink = document.createElement('div');\n",
              "          docLink.innerHTML = docLinkHtml;\n",
              "          element.appendChild(docLink);\n",
              "        }\n",
              "      </script>\n",
              "    </div>\n",
              "  </div>\n",
              "  "
            ],
            "text/plain": [
              "                        lastName        country  ...   M   H\n",
              "ind                                              ...        \n",
              "2010-02-12 15:08:08  Korotkevich        Belarus  ...   2  15\n",
              "2015-07-27 05:21:18     Kawasaki          Japan  ...   7   5\n",
              "2011-05-24 03:41:47          NaN          Samoa  ...   5   3\n",
              "2015-06-23 22:52:59           Qi  United States  ...   6  22\n",
              "2013-11-23 12:04:30      Radecki         Poland  ...  11  12\n",
              "\n",
              "[5 rows x 20 columns]"
            ]
          },
          "metadata": {},
          "execution_count": 43
        }
      ]
    },
    {
      "cell_type": "code",
      "source": [
        "dfAll.to_excel(\"AllWithDate.xlsx\")"
      ],
      "metadata": {
        "id": "AZmZSUZafH8q"
      },
      "execution_count": 45,
      "outputs": []
    }
  ]
}