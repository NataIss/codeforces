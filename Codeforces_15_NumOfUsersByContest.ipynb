{
  "nbformat": 4,
  "nbformat_minor": 0,
  "metadata": {
    "colab": {
      "name": "Codeforces_15_NumOfUsersByContest.ipynb",
      "provenance": [],
      "authorship_tag": "ABX9TyOUay23vKCLXmcL5ud2CWOU",
      "include_colab_link": true
    },
    "kernelspec": {
      "name": "python3",
      "display_name": "Python 3"
    },
    "language_info": {
      "name": "python"
    }
  },
  "cells": [
    {
      "cell_type": "markdown",
      "metadata": {
        "id": "view-in-github",
        "colab_type": "text"
      },
      "source": [
        "<a href=\"https://colab.research.google.com/github/NataIss/codeforces/blob/main/Codeforces_15_NumOfUsersByContest.ipynb\" target=\"_parent\"><img src=\"https://colab.research.google.com/assets/colab-badge.svg\" alt=\"Open In Colab\"/></a>"
      ]
    },
    {
      "cell_type": "code",
      "execution_count": null,
      "metadata": {
        "id": "6Ei3tDVd_91-"
      },
      "outputs": [],
      "source": [
        "import json\n",
        "import requests\n",
        "import pandas as pd\n",
        "import numpy as np\n",
        "import time"
      ]
    },
    {
      "cell_type": "code",
      "source": [
        "try:  \n",
        "    data = pd.read_json(\"https://codeforces.com/api/contest.list?gym=false\")\n",
        "    con = pd.DataFrame.from_records(data['result'])\n",
        "    con\n",
        "except (BaseException) as e:    \n",
        "    print(e)\n",
        "con"
      ],
      "metadata": {
        "id": "u2BJV3jhAIWW"
      },
      "execution_count": null,
      "outputs": []
    },
    {
      "cell_type": "code",
      "source": [
        "con=con[(con['type']=='CF') & (con['phase']=='FINISHED')]\n",
        "con"
      ],
      "metadata": {
        "id": "SWZFfC2SAK7M"
      },
      "execution_count": null,
      "outputs": []
    },
    {
      "cell_type": "code",
      "source": [
        " link='https://codeforces.com/api/contest.ratingChanges?contestId=1625'\n",
        " data = pd.read_json(link)\n",
        " if data['status'][0]=='OK':\n",
        "       dfAll = pd.DataFrame.from_records(data['result'])"
      ],
      "metadata": {
        "id": "KunHbhQwANXc"
      },
      "execution_count": null,
      "outputs": []
    },
    {
      "cell_type": "code",
      "source": [
        "for j in con['id']: \n",
        "    i=0\n",
        "    while i<3:\n",
        "        try:\n",
        "            time.sleep(0.2)\n",
        "            link='https://codeforces.com/api/contest.ratingChanges?contestId=' + str(j)\n",
        "            data = pd.read_json(link)\n",
        "            if data['status'][0]=='OK':\n",
        "                df = pd.DataFrame.from_records(data['result'])\n",
        "                dfAll=pd.concat([dfAll,df],ignore_index=True)\n",
        "                i=i+5\n",
        "                print(j) + \"****\"\n",
        "        except (BaseException) as e:    \n",
        "                time.sleep(1)\n",
        "                i=i+1\n",
        "                #ratedListAll[ratedListAll['handle']==j][0]\n",
        "                if i==3:\n",
        "                    print(j)\n",
        "                    print(e)\n",
        "dfAll"
      ],
      "metadata": {
        "id": "_WrDX49QAOE-"
      },
      "execution_count": null,
      "outputs": []
    },
    {
      "cell_type": "code",
      "source": [
        "dfAll.drop_duplicates(keep='last',subset=['handle','contestId'],inplace=True)"
      ],
      "metadata": {
        "id": "rzGtBdHLAQc4"
      },
      "execution_count": null,
      "outputs": []
    },
    {
      "cell_type": "code",
      "source": [
        "w=pd.DataFrame(dfAll.groupby('contestId')['rank'].count())\n",
        "w.head()"
      ],
      "metadata": {
        "id": "pWohNrq6AU9M"
      },
      "execution_count": null,
      "outputs": []
    },
    {
      "cell_type": "code",
      "source": [
        "con.set_index('id',inplace=True)"
      ],
      "metadata": {
        "id": "6dmDRFQ9AYRV"
      },
      "execution_count": null,
      "outputs": []
    },
    {
      "cell_type": "code",
      "source": [
        "res = pd.merge(con, w, how=\"outer\",left_index=True,right_index=True)\n",
        "res"
      ],
      "metadata": {
        "id": "t3X8dFcqAcP1"
      },
      "execution_count": null,
      "outputs": []
    },
    {
      "cell_type": "code",
      "source": [
        "res=res.fillna(0)\n",
        "res=res[res['rank']>0]\n",
        "res.rename(columns={'rank':'NumOfUsers'}, inplace=True)"
      ],
      "metadata": {
        "id": "uCMAlHONAfw2"
      },
      "execution_count": null,
      "outputs": []
    },
    {
      "cell_type": "code",
      "source": [
        "res1=res[['name','startTimeSeconds','NumOfUsers']]\n",
        "res1.head()"
      ],
      "metadata": {
        "id": "Igy3Yer5Amom"
      },
      "execution_count": null,
      "outputs": []
    },
    {
      "cell_type": "code",
      "source": [
        "res1.to_excel('NumOfUsersByContest.xlsx')"
      ],
      "metadata": {
        "id": "BediZrKbAolx"
      },
      "execution_count": null,
      "outputs": []
    }
  ]
}